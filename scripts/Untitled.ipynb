{
 "cells": [
  {
   "cell_type": "code",
   "execution_count": 1,
   "id": "b35e07a8",
   "metadata": {},
   "outputs": [],
   "source": [
    "# sum of two integers inside the list which equals to the given target."
   ]
  },
  {
   "cell_type": "code",
   "execution_count": 2,
   "id": "407902db",
   "metadata": {},
   "outputs": [],
   "source": [
    "numbers = [2,11,7,15]"
   ]
  },
  {
   "cell_type": "code",
   "execution_count": 3,
   "id": "6c66f469",
   "metadata": {},
   "outputs": [
    {
     "name": "stdout",
     "output_type": "stream",
     "text": [
      "enter the target value: 22\n"
     ]
    }
   ],
   "source": [
    "target = int(input(\"enter the target value: \"))"
   ]
  },
  {
   "cell_type": "code",
   "execution_count": 4,
   "id": "e52f870a",
   "metadata": {},
   "outputs": [
    {
     "name": "stdout",
     "output_type": "stream",
     "text": [
      "[numbers[2], numbers[3]]\n"
     ]
    }
   ],
   "source": [
    "def Target():              # Own\n",
    "    for i in range(len(numbers)):\n",
    "        for j in range(len(numbers)):\n",
    "            if i != j and int(numbers[i] + numbers[j]) == target:\n",
    "                result = f'[numbers[{i}], numbers[{j}]]'\n",
    "                return result\n",
    "\n",
    "print(Target())"
   ]
  },
  {
   "cell_type": "code",
   "execution_count": 5,
   "id": "c42254ef",
   "metadata": {},
   "outputs": [
    {
     "name": "stdout",
     "output_type": "stream",
     "text": [
      "[2, 3]\n"
     ]
    }
   ],
   "source": [
    "def Target_value():        # loan\n",
    "    for i in range(len(numbers)):\n",
    "        value = target - numbers[i]\n",
    "        for j in range(len(numbers)):\n",
    "            if i != j and value == numbers[j]:\n",
    "                return([i,j])\n",
    "print(Target_value())"
   ]
  },
  {
   "cell_type": "code",
   "execution_count": 6,
   "id": "17f5c6ab",
   "metadata": {},
   "outputs": [],
   "source": [
    "# tracing duplicate items in a list"
   ]
  },
  {
   "cell_type": "code",
   "execution_count": 7,
   "id": "f262a70f",
   "metadata": {},
   "outputs": [],
   "source": [
    "items = ['22', '23', '35', '24', '35']"
   ]
  },
  {
   "cell_type": "code",
   "execution_count": 8,
   "id": "a62f6d05",
   "metadata": {},
   "outputs": [
    {
     "name": "stdout",
     "output_type": "stream",
     "text": [
      "True\n"
     ]
    }
   ],
   "source": [
    "def duplicate():\n",
    "    for i in range(len(items)):\n",
    "        for j in range(len(items)):\n",
    "            if i != j and items[i] == items[j]:\n",
    "                return 'True'\n",
    "    return 'False'\n",
    "print(duplicate())"
   ]
  },
  {
   "cell_type": "code",
   "execution_count": 9,
   "id": "6927c67b",
   "metadata": {},
   "outputs": [],
   "source": [
    "# Majority elements of the array"
   ]
  },
  {
   "cell_type": "code",
   "execution_count": 10,
   "id": "f586d04b",
   "metadata": {},
   "outputs": [
    {
     "name": "stdout",
     "output_type": "stream",
     "text": [
      "6\n",
      "6\n"
     ]
    }
   ],
   "source": [
    "import statistics\n",
    "from statistics import mode\n",
    "majority_list = ['1','2','8','6','7','7','8','4','6','6','1','4','2','4']\n",
    "print(max(set(majority_list), key = majority_list.count))\n",
    "print(mode(majority_list))"
   ]
  },
  {
   "cell_type": "code",
   "execution_count": 11,
   "id": "d962b7db",
   "metadata": {},
   "outputs": [],
   "source": [
    "# anagram - forming differnt words using letters in another word\n"
   ]
  },
  {
   "cell_type": "code",
   "execution_count": 12,
   "id": "e598a5b5",
   "metadata": {},
   "outputs": [],
   "source": [
    "example_words = [\"arc\", \"car\", \"inch\", \"chin\", \"dog\"]"
   ]
  },
  {
   "cell_type": "code",
   "execution_count": 92,
   "id": "2482019c",
   "metadata": {
    "scrolled": true
   },
   "outputs": [
    {
     "name": "stdout",
     "output_type": "stream",
     "text": [
      "{'acr': ['arc', 'car'], 'chin': ['inch', 'chin'], 'dgo': ['dog']}\n"
     ]
    }
   ],
   "source": [
    "def anagram():\n",
    "    \n",
    "    answers = {}\n",
    "    for word in range(len(example_words)):\n",
    "        answers[''.join(sorted(example_words[word]))]=[]\n",
    "    for word in range(len(example_words)):\n",
    "        for key in answers.keys():\n",
    "            if (''.join(sorted(example_words[word]))) == key:\n",
    "                answers[key].append(example_words[word])\n",
    "    print(answers)\n",
    "        \n",
    "            \n",
    "                \n",
    "anagram()"
   ]
  },
  {
   "cell_type": "code",
   "execution_count": 146,
   "id": "24ed5c1d",
   "metadata": {},
   "outputs": [],
   "source": [
    "import numpy as np\n",
    "import pandas as pd\n",
    "\n",
    "# numbers = pd.Series(np.random.randn(3), index = ['a','b','j'])\n",
    "# data = {'first_name': 'Veera', 'Last_name': 'Marni'}\n",
    "# names = pd.Series(data)\n",
    "# print(numbers)\n",
    "# print(names)\n",
    "\n",
    "# with column names\n",
    "\n",
    "# data = {'Title':['First_name', 'Last_name', 'Age'],\n",
    "#         'Details': ['Veera', 'Marni', '25']}\n",
    "# df = pd.DataFrame(data)\n",
    "# print(df)\n",
    "# print('*'*10)\n",
    "# print(df['Title'])\n",
    "\n",
    "# DataFrame operations\n",
    "\n",
    "# data = {'a':[1,2,3], 'b':[4,1,6]}\n",
    "# df = pd.DataFrame(data)\n",
    "# print(df)\n",
    "# df['c'] = df['a'] + df['b']\n",
    "# print('*'*15)\n",
    "# print(df)\n",
    "# print('*'*15)\n",
    "# df['b_larger_than_a'] = df['b'] > df['a']\n",
    "# print(df)\n",
    "# print('*'*15)\n",
    "\n",
    "# # deletion of unwanted data\n",
    "# del df['c']\n",
    "# print(df)\n"
   ]
  },
  {
   "cell_type": "code",
   "execution_count": 145,
   "id": "e0de03db",
   "metadata": {},
   "outputs": [
    {
     "data": {
      "text/plain": [
       "'false'"
      ]
     },
     "execution_count": 145,
     "metadata": {},
     "output_type": "execute_result"
    }
   ],
   "source": [
    "class Solution:\n",
    "    def contains_Duplicate_num(self, nums: [int]) -> bool:\n",
    "        for i in range(len(nums)):\n",
    "            for j in range(len(nums)):\n",
    "#                 print(nums[i], nums[j])\n",
    "                if i != j and nums[i] == nums[j]:\n",
    "#                     print(i,j)\n",
    "                    return 'true'\n",
    "        return 'false'\n",
    "s= Solution()\n",
    "s.contains_Duplicate_num([1,2,3,4])\n",
    "                "
   ]
  },
  {
   "cell_type": "code",
   "execution_count": 3,
   "id": "c5b1fd2d",
   "metadata": {},
   "outputs": [
    {
     "name": "stdout",
     "output_type": "stream",
     "text": [
      "The value 3 occured maximum times(4).\n"
     ]
    }
   ],
   "source": [
    "lists = [1,4,5,3,2,1,3,3,1,3]\n",
    "# print(mode(lists))\n",
    "result = {}\n",
    "maxi = (0,0)\n",
    "for num in lists:\n",
    "    result[num] = 0\n",
    "for num in lists:\n",
    "    result[num] += 1\n",
    "for key, value in result.items():\n",
    "    if result[key] > maxi[1]:\n",
    "        maxi = (key, value)\n",
    "print(f'The value {maxi[0]} occured maximum times({maxi[1]}).')\n",
    "        "
   ]
  },
  {
   "cell_type": "code",
   "execution_count": 207,
   "id": "9f5f9fe2",
   "metadata": {},
   "outputs": [
    {
     "name": "stdout",
     "output_type": "stream",
     "text": [
      "32\n"
     ]
    }
   ],
   "source": [
    "name = 'veeravenkatalakshmisrikanthmarni'\n",
    "print(len(name))"
   ]
  },
  {
   "cell_type": "code",
   "execution_count": null,
   "id": "c46ef9bb",
   "metadata": {},
   "outputs": [],
   "source": []
  }
 ],
 "metadata": {
  "kernelspec": {
   "display_name": "Python 3 (ipykernel)",
   "language": "python",
   "name": "python3"
  },
  "language_info": {
   "codemirror_mode": {
    "name": "ipython",
    "version": 3
   },
   "file_extension": ".py",
   "mimetype": "text/x-python",
   "name": "python",
   "nbconvert_exporter": "python",
   "pygments_lexer": "ipython3",
   "version": "3.9.13"
  },
  "vscode": {
   "interpreter": {
    "hash": "aee8b7b246df8f9039afb4144a1f6fd8d2ca17a180786b69acc140d282b71a49"
   }
  }
 },
 "nbformat": 4,
 "nbformat_minor": 5
}
