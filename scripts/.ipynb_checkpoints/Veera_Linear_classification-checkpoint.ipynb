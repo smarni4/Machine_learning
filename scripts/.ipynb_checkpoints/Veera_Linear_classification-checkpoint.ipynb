{
 "cells": [
  {
   "cell_type": "code",
   "execution_count": 39,
   "id": "49b8536e",
   "metadata": {},
   "outputs": [],
   "source": [
    "import pandas as pd\n",
    "from sklearn.linear_model import SGDClassifier\n",
    "from sklearn.model_selection import train_test_split, cross_val_score\n",
    "from sklearn.metrics import accuracy_score, precision_score, recall_score, f1_score, confusion_matrix\n",
    "from sklearn.preprocessing import LabelEncoder\n",
    "from sklearn.svm import SVC\n",
    "\n",
    "df = pd.read_csv(\"../Data_files/iris.csv\")\n"
   ]
  },
  {
   "cell_type": "code",
   "execution_count": 40,
   "id": "258d5062",
   "metadata": {},
   "outputs": [],
   "source": [
    "encoder = LabelEncoder()\n",
    "df['Species'] = encoder.fit_transform(df['Species'])"
   ]
  },
  {
   "cell_type": "code",
   "execution_count": 41,
   "id": "a8089e70",
   "metadata": {},
   "outputs": [],
   "source": [
    "clf = SGDClassifier(max_iter=1000, tol=1e-3)"
   ]
  },
  {
   "cell_type": "code",
   "execution_count": 42,
   "id": "6776fd10",
   "metadata": {},
   "outputs": [],
   "source": [
    "X = df.iloc[:, :-1]\n",
    "y = df.iloc[:, -1]\n",
    "\n",
    "X_train, X_test, y_train, y_test = train_test_split(X, y, test_size=0.2, random_state=42)\n"
   ]
  },
  {
   "cell_type": "code",
   "execution_count": 43,
   "id": "6105ff70",
   "metadata": {},
   "outputs": [],
   "source": [
    "sgd = SGDClassifier(loss='log', random_state=42)\n",
    "sgd.fit(X_train, y_train)\n",
    "svc = SVC(kernel='linear', random_state=42)\n",
    "svc.fit(X_train, y_train)\n",
    "y1_pred = svc.predict(X_test)\n"
   ]
  },
  {
   "cell_type": "code",
   "execution_count": 44,
   "id": "5944b9f7",
   "metadata": {},
   "outputs": [],
   "source": [
    "y_pred = sgd.predict(X_test)\n"
   ]
  },
  {
   "cell_type": "code",
   "execution_count": 45,
   "id": "19e55589",
   "metadata": {},
   "outputs": [
    {
     "name": "stdout",
     "output_type": "stream",
     "text": [
      "Accuracy: 0.7\n",
      "Precision: 0.5153110047846889\n",
      "Recall: 0.7\n",
      "F1 score: 0.5863492063492063\n"
     ]
    },
    {
     "name": "stderr",
     "output_type": "stream",
     "text": [
      "/Users/veera/opt/anaconda3/lib/python3.9/site-packages/sklearn/metrics/_classification.py:1318: UndefinedMetricWarning: Precision is ill-defined and being set to 0.0 in labels with no predicted samples. Use `zero_division` parameter to control this behavior.\n",
      "  _warn_prf(average, modifier, msg_start, len(result))\n"
     ]
    }
   ],
   "source": [
    "print(\"Accuracy:\", accuracy_score(y_test, y_pred))\n",
    "print(\"Precision:\", precision_score(y_test, y_pred, average='weighted'))\n",
    "print(\"Recall:\", recall_score(y_test, y_pred, average='weighted'))\n",
    "print(\"F1 score:\", f1_score(y_test, y_pred, average='weighted'))\n"
   ]
  },
  {
   "cell_type": "code",
   "execution_count": 46,
   "id": "786eb114",
   "metadata": {},
   "outputs": [
    {
     "name": "stdout",
     "output_type": "stream",
     "text": [
      "Cross validation scores: [0.36666667 0.43333333 0.33333333 0.63333333 0.33333333]\n",
      "Average score: 0.42000000000000004\n",
      "\n",
      "confusion matrix: \n",
      " [[10  0  0]\n",
      " [ 1  0  8]\n",
      " [ 0  0 11]]\n"
     ]
    }
   ],
   "source": [
    "scores = cross_val_score(sgd, X, y, cv=5)\n",
    "print(\"Cross validation scores:\", scores)\n",
    "print(\"Average score:\", scores.mean())\n",
    "print(f'\\nconfusion matrix: \\n {confusion_matrix(y_test, y_pred)}')\n",
    "\n"
   ]
  },
  {
   "cell_type": "code",
   "execution_count": 47,
   "id": "c2817cc0",
   "metadata": {},
   "outputs": [
    {
     "name": "stdout",
     "output_type": "stream",
     "text": [
      "Accuracy: 1.0\n",
      "Precision: 1.0\n",
      "Recall: 1.0\n",
      "F1 score: 1.0\n",
      "Cross validation scores: [0.66666667 1.         1.         1.         0.7       ]\n",
      "Average score: 0.8733333333333333\n",
      "\n",
      "confusion matrix: \n",
      " [[10  0  0]\n",
      " [ 0  9  0]\n",
      " [ 0  0 11]]\n"
     ]
    }
   ],
   "source": [
    "# for support vector machines\n",
    "\n",
    "print(\"Accuracy:\", accuracy_score(y_test, y1_pred))\n",
    "print(\"Precision:\", precision_score(y_test, y1_pred, average='weighted'))\n",
    "print(\"Recall:\", recall_score(y_test, y1_pred, average='weighted'))\n",
    "print(\"F1 score:\", f1_score(y_test, y1_pred, average='weighted'))\n",
    "\n",
    "scores = cross_val_score(svc, X, y, cv=5)\n",
    "print(\"Cross validation scores:\", scores)\n",
    "print(\"Average score:\", scores.mean())\n",
    "\n",
    "print(f'\\nconfusion matrix: \\n {confusion_matrix(y_test, y1_pred)}')"
   ]
  },
  {
   "cell_type": "code",
   "execution_count": 48,
   "id": "f0241df4",
   "metadata": {},
   "outputs": [
    {
     "name": "stdout",
     "output_type": "stream",
     "text": [
      "The confusion matrix for both logistic regression and support vector machines shows that setosa has perfect classification and remaining two species versicolor and virginica are confused with each other.\n"
     ]
    }
   ],
   "source": [
    "print('The confusion matrix for both logistic regression and support vector machines shows that setosa has perfect classification and remaining two species versicolor and virginica are confused with each other.')"
   ]
  },
  {
   "cell_type": "code",
   "execution_count": null,
   "id": "4ce5b10d",
   "metadata": {},
   "outputs": [],
   "source": []
  },
  {
   "cell_type": "code",
   "execution_count": null,
   "id": "8027a09b",
   "metadata": {},
   "outputs": [],
   "source": []
  }
 ],
 "metadata": {
  "kernelspec": {
   "display_name": "Python 3 (ipykernel)",
   "language": "python",
   "name": "python3"
  },
  "language_info": {
   "codemirror_mode": {
    "name": "ipython",
    "version": 3
   },
   "file_extension": ".py",
   "mimetype": "text/x-python",
   "name": "python",
   "nbconvert_exporter": "python",
   "pygments_lexer": "ipython3",
   "version": "3.9.13"
  }
 },
 "nbformat": 4,
 "nbformat_minor": 5
}
