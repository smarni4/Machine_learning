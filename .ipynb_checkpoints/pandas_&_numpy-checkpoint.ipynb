{
 "cells": [
  {
   "cell_type": "code",
   "execution_count": null,
   "id": "9a917747",
   "metadata": {},
   "outputs": [],
   "source": [
    "import numpy as np\n",
    "import pandas as pd\n",
    "\n",
    "# numbers = pd.Series(np.random.randn(3), index = ['a','b','j'])\n",
    "# data = {'first_name': 'Veera', 'Last_name': 'Marni'}\n",
    "# names = pd.Series(data)\n",
    "# print(numbers)\n",
    "# print(names)\n",
    "\n",
    "# with column names\n",
    "\n",
    "# data = {'Title':['First_name', 'Last_name', 'Age'],\n",
    "#         'Details': ['Veera', 'Marni', '25']}\n",
    "# df = pd.DataFrame(data)\n",
    "# print(df)\n",
    "# print('*'*10)\n",
    "# print(df['Title'])\n",
    "\n",
    "# DataFrame operations\n",
    "\n",
    "# data = {'a':[1,2,3], 'b':[4,1,6]}\n",
    "# df = pd.DataFrame(data)\n",
    "# print(df)\n",
    "# df['c'] = df['a'] + df['b']\n",
    "# print('*'*15)\n",
    "# print(df)\n",
    "# print('*'*15)\n",
    "# df['b_larger_than_a'] = df['b'] > df['a']\n",
    "# print(df)\n",
    "# print('*'*15)\n",
    "\n",
    "# # deletion of unwanted data\n",
    "# del df['c']\n",
    "# print(df)\n"
   ]
  }
 ],
 "metadata": {
  "kernelspec": {
   "display_name": "Python 3 (ipykernel)",
   "language": "python",
   "name": "python3"
  },
  "language_info": {
   "codemirror_mode": {
    "name": "ipython",
    "version": 3
   },
   "file_extension": ".py",
   "mimetype": "text/x-python",
   "name": "python",
   "nbconvert_exporter": "python",
   "pygments_lexer": "ipython3",
   "version": "3.9.13"
  }
 },
 "nbformat": 4,
 "nbformat_minor": 5
}
