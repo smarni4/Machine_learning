{
 "cells": [
  {
   "cell_type": "code",
   "execution_count": 1,
   "id": "1d97a885",
   "metadata": {},
   "outputs": [],
   "source": [
    "# sum of two integers inside the list which equals to the given target."
   ]
  },
  {
   "cell_type": "code",
   "execution_count": 2,
   "id": "ad3acb19",
   "metadata": {},
   "outputs": [],
   "source": [
    "numbers = [2,11,7,15]"
   ]
  },
  {
   "cell_type": "code",
   "execution_count": 3,
   "id": "304b986d",
   "metadata": {},
   "outputs": [
    {
     "name": "stdout",
     "output_type": "stream",
     "text": [
      "enter the target value: 22\n"
     ]
    }
   ],
   "source": [
    "target = int(input(\"enter the target value: \"))"
   ]
  },
  {
   "cell_type": "code",
   "execution_count": 4,
   "id": "3e9b6108",
   "metadata": {},
   "outputs": [
    {
     "name": "stdout",
     "output_type": "stream",
     "text": [
      "[numbers[2], numbers[3]]\n"
     ]
    }
   ],
   "source": [
    "def Target():              # Own\n",
    "    for i in range(len(numbers)):\n",
    "        for j in range(len(numbers)):\n",
    "            if i != j and int(numbers[i] + numbers[j]) == target:\n",
    "                result = f'[numbers[{i}], numbers[{j}]]'\n",
    "                return result\n",
    "\n",
    "print(Target())"
   ]
  },
  {
   "cell_type": "code",
   "execution_count": 5,
   "id": "034f01b8",
   "metadata": {},
   "outputs": [
    {
     "name": "stdout",
     "output_type": "stream",
     "text": [
      "[2, 3]\n"
     ]
    }
   ],
   "source": [
    "def Target_value():        # loan\n",
    "    for i in range(len(numbers)):\n",
    "        value = target - numbers[i]\n",
    "        for j in range(len(numbers)):\n",
    "            if i != j and value == numbers[j]:\n",
    "                return([i,j])\n",
    "print(Target_value())"
   ]
  },
  {
   "cell_type": "code",
   "execution_count": 6,
   "id": "96797192",
   "metadata": {},
   "outputs": [],
   "source": [
    "# tracing duplicate items in a list"
   ]
  },
  {
   "cell_type": "code",
   "execution_count": 7,
   "id": "0b93e637",
   "metadata": {},
   "outputs": [],
   "source": [
    "items = ['22', '23', '35', '24', '35']"
   ]
  },
  {
   "cell_type": "code",
   "execution_count": 8,
   "id": "c4fe10b4",
   "metadata": {},
   "outputs": [
    {
     "name": "stdout",
     "output_type": "stream",
     "text": [
      "True\n"
     ]
    }
   ],
   "source": [
    "def duplicate():\n",
    "    for i in range(len(items)):\n",
    "        for j in range(len(items)):\n",
    "            if i != j and items[i] == items[j]:\n",
    "                return 'True'\n",
    "    return 'False'\n",
    "print(duplicate())"
   ]
  },
  {
   "cell_type": "code",
   "execution_count": 9,
   "id": "794a9f7e",
   "metadata": {},
   "outputs": [],
   "source": [
    "# Majority elements of the array"
   ]
  },
  {
   "cell_type": "code",
   "execution_count": 10,
   "id": "a3703493",
   "metadata": {},
   "outputs": [
    {
     "name": "stdout",
     "output_type": "stream",
     "text": [
      "6\n",
      "6\n"
     ]
    }
   ],
   "source": [
    "import statistics\n",
    "from statistics import mode\n",
    "majority_list = ['1','2','8','6','7','7','8','4','6','6','1','4','2','4']\n",
    "print(max(set(majority_list), key = majority_list.count))\n",
    "print(mode(majority_list))"
   ]
  },
  {
   "cell_type": "code",
   "execution_count": 11,
   "id": "1d54d249",
   "metadata": {},
   "outputs": [],
   "source": [
    "# anagram - forming differnt words using letters in another word\n"
   ]
  },
  {
   "cell_type": "code",
   "execution_count": 12,
   "id": "d86bad89",
   "metadata": {},
   "outputs": [],
   "source": [
    "example_words = [\"arc\", \"car\", \"inch\", \"chin\", \"dog\"]"
   ]
  },
  {
   "cell_type": "code",
   "execution_count": 92,
   "id": "946fa339",
   "metadata": {
    "scrolled": true
   },
   "outputs": [
    {
     "name": "stdout",
     "output_type": "stream",
     "text": [
      "{'acr': ['arc', 'car'], 'chin': ['inch', 'chin'], 'dgo': ['dog']}\n"
     ]
    }
   ],
   "source": [
    "def anagram():\n",
    "    \n",
    "    answers = {}\n",
    "    for word in range(len(example_words)):\n",
    "        answers[''.join(sorted(example_words[word]))]=[]\n",
    "    for word in range(len(example_words)):\n",
    "        for key in answers.keys():\n",
    "            if (''.join(sorted(example_words[word]))) == key:\n",
    "                answers[key].append(example_words[word])\n",
    "    print(answers)\n",
    "        \n",
    "            \n",
    "                \n",
    "anagram()"
   ]
  },
  {
   "cell_type": "code",
   "execution_count": 129,
   "id": "a0da978e",
   "metadata": {},
   "outputs": [
    {
     "name": "stdout",
     "output_type": "stream",
     "text": [
      "   a  b\n",
      "0  1  4\n",
      "1  2  1\n",
      "2  3  6\n",
      "***************\n",
      "   a  b  c\n",
      "0  1  4  5\n",
      "1  2  1  3\n",
      "2  3  6  9\n",
      "***************\n",
      "   a  b  c  b_larger_than_a\n",
      "0  1  4  5             True\n",
      "1  2  1  3            False\n",
      "2  3  6  9             True\n",
      "***************\n",
      "   a  b  b_larger_than_a\n",
      "0  1  4             True\n",
      "1  2  1            False\n",
      "2  3  6             True\n"
     ]
    }
   ],
   "source": [
    "import numpy as np\n",
    "import pandas as pd\n",
    "\n",
    "# numbers = pd.Series(np.random.randn(3), index = ['a','b','j'])\n",
    "# data = {'first_name': 'Veera', 'Last_name': 'Marni'}\n",
    "# names = pd.Series(data)\n",
    "# print(numbers)\n",
    "# print(names)\n",
    "\n",
    "# with column names\n",
    "\n",
    "# data = {'Title':['First_name', 'Last_name', 'Age'],\n",
    "#         'Details': ['Veera', 'Marni', '25']}\n",
    "# df = pd.DataFrame(data)\n",
    "# print(df)\n",
    "# print('*'*10)\n",
    "# print(df['Title'])\n",
    "\n",
    "# DataFrame operations\n",
    "\n",
    "# data = {'a':[1,2,3], 'b':[4,1,6]}\n",
    "# df = pd.DataFrame(data)\n",
    "# print(df)\n",
    "# df['c'] = df['a'] + df['b']\n",
    "# print('*'*15)\n",
    "# print(df)\n",
    "# print('*'*15)\n",
    "# df['b_larger_than_a'] = df['b'] > df['a']\n",
    "# print(df)\n",
    "# print('*'*15)\n",
    "\n",
    "# # deletion of unwanted data\n",
    "# del df['c']\n",
    "# print(df)\n"
   ]
  },
  {
   "cell_type": "code",
   "execution_count": null,
   "id": "6d295d0a",
   "metadata": {},
   "outputs": [],
   "source": [
    "class Solution:\n",
    "    def duplicate_num(self, nums: List[int]) -> bool:\n",
    "        for 1, num1 in enumerate(nums:\n",
    "            for num2 in nums:\n",
    "                "
   ]
  },
  {
   "cell_type": "code",
   "execution_count": null,
   "id": "a8474cde",
   "metadata": {},
   "outputs": [],
   "source": []
  }
 ],
 "metadata": {
  "kernelspec": {
   "display_name": "Python 3 (ipykernel)",
   "language": "python",
   "name": "python3"
  },
  "language_info": {
   "codemirror_mode": {
    "name": "ipython",
    "version": 3
   },
   "file_extension": ".py",
   "mimetype": "text/x-python",
   "name": "python",
   "nbconvert_exporter": "python",
   "pygments_lexer": "ipython3",
   "version": "3.9.13"
  }
 },
 "nbformat": 4,
 "nbformat_minor": 5
}
